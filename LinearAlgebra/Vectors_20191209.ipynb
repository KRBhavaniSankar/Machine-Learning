{
 "cells": [
  {
   "cell_type": "code",
   "execution_count": 1,
   "metadata": {},
   "outputs": [],
   "source": [
    "#vector is a tuple of one or more values called scalars.\n",
    "#Vector represents a point or coordinate in an n-dimensional space, where n is the no.of dimensions.\n",
    "#We can represet vector as a column, row or matrix.\n",
    "# A simple vector can be represented as v = (v1,v2,v3) "
   ]
  },
  {
   "cell_type": "markdown",
   "metadata": {},
   "source": [
    "# Defining a vector"
   ]
  },
  {
   "cell_type": "code",
   "execution_count": 30,
   "metadata": {},
   "outputs": [
    {
     "name": "stdout",
     "output_type": "stream",
     "text": [
      "(3,)\n",
      "(10, 5)\n"
     ]
    }
   ],
   "source": [
    "import numpy as np\n",
    "#define vector\n",
    "v1 = np.array([1,2,3])\n",
    "v2 = np.linspace(1,10).reshape(10,5)\n",
    "\n",
    "#print(v1,v2)\n",
    "#print(type(v1))\n",
    "print(np.shape(v1))\n",
    "print(np.shape(v2))"
   ]
  },
  {
   "cell_type": "code",
   "execution_count": 34,
   "metadata": {},
   "outputs": [
    {
     "name": "stdout",
     "output_type": "stream",
     "text": [
      "----arithmetic vector operations --------\n",
      "a+b =>  [2 4 6]\n",
      "a-b =>  [0 0 0]\n",
      "a*b =>  [1 4 9]\n",
      "a/b =>  [1. 1. 1.]\n"
     ]
    }
   ],
   "source": [
    "a = np.array([1,2,3])\n",
    "b= np.array([1,2,3])\n",
    "print(\"----arithmetic vector operations --------\")\n",
    "print(\"a+b => \",a+b)\n",
    "print(\"a-b => \",a-b)\n",
    "print(\"a*b => \",a*b)\n",
    "print(\"a/b => \",a/b )"
   ]
  },
  {
   "cell_type": "markdown",
   "metadata": {},
   "source": [
    "# Vector dot product"
   ]
  },
  {
   "cell_type": "code",
   "execution_count": 35,
   "metadata": {},
   "outputs": [
    {
     "name": "stdout",
     "output_type": "stream",
     "text": [
      "dot product (a.b) =>  14\n"
     ]
    }
   ],
   "source": [
    "print(\"dot product (a.b) => \",a.dot(b))"
   ]
  },
  {
   "cell_type": "markdown",
   "metadata": {},
   "source": [
    "# Vector - Scalar multiplication"
   ]
  },
  {
   "cell_type": "code",
   "execution_count": 37,
   "metadata": {},
   "outputs": [],
   "source": [
    "#c = s * v , where s is scalar and v is vector, so we can describe this notation as below\n",
    "#c = sv\n",
    "#c = (s*v1,s*v2,s*v3)  or put another way c[0]= v[0]\n"
   ]
  },
  {
   "cell_type": "code",
   "execution_count": null,
   "metadata": {},
   "outputs": [],
   "source": []
  }
 ],
 "metadata": {
  "kernelspec": {
   "display_name": "Python 3",
   "language": "python",
   "name": "python3"
  },
  "language_info": {
   "codemirror_mode": {
    "name": "ipython",
    "version": 3
   },
   "file_extension": ".py",
   "mimetype": "text/x-python",
   "name": "python",
   "nbconvert_exporter": "python",
   "pygments_lexer": "ipython3",
   "version": "3.7.3"
  }
 },
 "nbformat": 4,
 "nbformat_minor": 2
}
