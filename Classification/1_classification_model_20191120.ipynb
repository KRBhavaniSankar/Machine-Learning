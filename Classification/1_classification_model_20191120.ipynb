{
 "cells": [
  {
   "cell_type": "markdown",
   "metadata": {},
   "source": [
    "# Import necessary libraries"
   ]
  },
  {
   "cell_type": "code",
   "execution_count": 94,
   "metadata": {},
   "outputs": [],
   "source": [
    "import pandas as pd\n",
    "import numpy as np\n",
    "from sklearn.model_selection import train_test_split\n",
    "from sklearn.preprocessing import StandardScaler\n",
    "import matplotlib.pyplot as plt\n",
    "from sklearn.svm import SVC\n",
    "from sklearn.neighbors import KNeighborsClassifier\n",
    "from sklearn.tree import DecisionTreeClassifier\n",
    "from sklearn.ensemble import RandomForestClassifier\n",
    "from sklearn.naive_bayes import GaussianNB\n",
    "from sklearn.metrics import confusion_matrix\n",
    "from sklearn.model_selection import cross_val_score\n",
    "#from xgboost import XGBClassifier"
   ]
  },
  {
   "cell_type": "code",
   "execution_count": null,
   "metadata": {},
   "outputs": [],
   "source": []
  },
  {
   "cell_type": "code",
   "execution_count": null,
   "metadata": {},
   "outputs": [],
   "source": [
    "selected_columns = ['main_properties_imei','main_transactionId','session_start_jst','unusual_events_behaviour','is_device_turnoff','event_usage_perc','unique_package_count','min_session_gap_counter','is_used_3hours_before','label']\n",
    "tok_nontok_df = pd.read_csv(actual_path)\n",
    "tok_nontok_df = tok_nontok_df[selected_columns]\n",
    "tok_nontok_df.head()\n"
   ]
  },
  {
   "cell_type": "code",
   "execution_count": 6,
   "metadata": {},
   "outputs": [],
   "source": [
    "X= tok_nontok_df.iloc[:,3:9].values\n",
    "y= tok_nontok_df.iloc[:,-1].values"
   ]
  },
  {
   "cell_type": "code",
   "execution_count": 7,
   "metadata": {},
   "outputs": [
    {
     "name": "stdout",
     "output_type": "stream",
     "text": [
      "(808, 10)\n"
     ]
    }
   ],
   "source": [
    "print(tok_nontok_df.shape)"
   ]
  },
  {
   "cell_type": "code",
   "execution_count": 8,
   "metadata": {},
   "outputs": [
    {
     "data": {
      "text/plain": [
       "0    663\n",
       "1    145\n",
       "Name: label, dtype: int64"
      ]
     },
     "execution_count": 8,
     "metadata": {},
     "output_type": "execute_result"
    }
   ],
   "source": [
    "tok_nontok_df['label'].value_counts()\n",
    "#NOTE : Imbalanced Data\n",
    "# 0 - NonTOK , 1- TOK"
   ]
  },
  {
   "cell_type": "code",
   "execution_count": 107,
   "metadata": {},
   "outputs": [
    {
     "data": {
      "text/plain": [
       "(646, 162)"
      ]
     },
     "execution_count": 107,
     "metadata": {},
     "output_type": "execute_result"
    }
   ],
   "source": [
    "X_train,X_test,y_train,y_test = train_test_split(X,y,test_size=0.2,random_state=0)\n",
    "len(X_train),len(X_test)"
   ]
  },
  {
   "cell_type": "code",
   "execution_count": 108,
   "metadata": {},
   "outputs": [
    {
     "data": {
      "text/plain": [
       "(36, 126)"
      ]
     },
     "execution_count": 108,
     "metadata": {},
     "output_type": "execute_result"
    }
   ],
   "source": [
    "n_pos = np.sum(y_test)\n",
    "n_neg =len(y_test)- n_pos\n",
    "n_pos,n_neg"
   ]
  },
  {
   "cell_type": "code",
   "execution_count": 109,
   "metadata": {},
   "outputs": [
    {
     "data": {
      "text/plain": [
       "(109, 610)"
      ]
     },
     "execution_count": 109,
     "metadata": {},
     "output_type": "execute_result"
    }
   ],
   "source": [
    "n_pos_ = np.sum(y_train)\n",
    "n_neg_ =len(y_train)- n_pos\n",
    "n_pos_,n_neg_"
   ]
  },
  {
   "cell_type": "markdown",
   "metadata": {},
   "source": [
    "# Feature Scaling"
   ]
  },
  {
   "cell_type": "code",
   "execution_count": 110,
   "metadata": {},
   "outputs": [],
   "source": [
    "sc = StandardScaler()\n",
    "X_train = sc.fit_transform(X_train)\n",
    "X_test = sc.transform(X_test)"
   ]
  },
  {
   "cell_type": "code",
   "execution_count": 118,
   "metadata": {
    "scrolled": true
   },
   "outputs": [
    {
     "name": "stdout",
     "output_type": "stream",
     "text": [
      "\n",
      "-------------KNN--------------\n",
      "[[124   2]\n",
      " [ 33   3]]\n",
      "\n",
      "F1-score: [0.         0.05128205 0.15789474 0.11428571 0.05263158]\n",
      "\n",
      "Recall: [0.         0.03448276 0.10344828 0.06896552 0.03448276]\n",
      "\n",
      "Precision: [0.         0.1        0.33333333 0.33333333 0.11111111]\n",
      "\n",
      "Accuaracy: [0.80246914 0.77160494 0.80246914 0.80745342 0.77639752]\n",
      "\n",
      "-------------DecisionTree--------------\n",
      "[[101  25]\n",
      " [ 28   8]]\n",
      "\n",
      "F1-score: [0.09836066 0.26865672 0.15625    0.16666667 0.38596491]\n",
      "\n",
      "Recall: [0.10344828 0.31034483 0.17241379 0.17241379 0.37931034]\n",
      "\n",
      "Precision: [0.09375    0.23684211 0.14285714 0.16129032 0.39285714]\n",
      "\n",
      "Accuaracy: [0.66049383 0.69753086 0.66666667 0.68944099 0.7826087 ]\n",
      "\n",
      "-------------RandomForest--------------\n",
      "[[122   4]\n",
      " [ 33   3]]\n",
      "\n",
      "F1-score: [0.         0.0952381  0.05555556 0.05882353 0.09756098]\n",
      "\n",
      "Recall: [0.         0.06896552 0.03448276 0.03448276 0.06896552]\n",
      "\n",
      "Precision: [0.         0.15384615 0.14285714 0.2        0.16666667]\n",
      "\n",
      "Accuaracy: [0.78395062 0.7654321  0.79012346 0.80124224 0.77018634]\n",
      "\n",
      "-------------SVM--------------\n",
      "[[121   5]\n",
      " [ 35   1]]\n",
      "\n",
      "F1-score: [0.05714286 0.         0.         0.09756098 0.        ]\n",
      "\n",
      "Recall: [0.03448276 0.         0.         0.06896552 0.        ]\n",
      "\n",
      "Precision: [0.16666667 0.         0.         0.16666667 0.        ]\n",
      "\n",
      "Accuaracy: [0.7962963  0.75925926 0.81481481 0.77018634 0.81987578]\n"
     ]
    },
    {
     "name": "stderr",
     "output_type": "stream",
     "text": [
      "/Users/bhavani.sankar/anaconda3/lib/python3.7/site-packages/sklearn/metrics/classification.py:1437: UndefinedMetricWarning: F-score is ill-defined and being set to 0.0 due to no predicted samples.\n",
      "  'precision', 'predicted', average, warn_for)\n",
      "/Users/bhavani.sankar/anaconda3/lib/python3.7/site-packages/sklearn/metrics/classification.py:1437: UndefinedMetricWarning: Precision is ill-defined and being set to 0.0 due to no predicted samples.\n",
      "  'precision', 'predicted', average, warn_for)\n"
     ]
    }
   ],
   "source": [
    "model_names= ['KNN','DecisionTree','RandomForest','SVM','KERNAL_SVM','NaiveBayes']\n",
    "model_configs = [KNeighborsClassifier(n_neighbors=5,metric=\"minkowski\",p=2),\n",
    "                 DecisionTreeClassifier(criterion=\"entropy\",random_state=0),\n",
    "                 RandomForestClassifier(n_estimators=10,criterion='entropy', random_state=0),\n",
    "                 SVC(kernel=\"linear\",random_state=0,max_iter=1000),\n",
    "                 SVC(kernel=\"rbf\",random_state=0,max_iter=1000),\n",
    "                 GaussianNB()]\n",
    "\n",
    "for model_name,model in zip(model_names,model_configs):\n",
    "    print('\\n-------------{}--------------'.format(model_name))\n",
    "    classifier= model\n",
    "    \n",
    "    #Fitting data to model\n",
    "    classifier.fit(X_train,y_train)\n",
    "    \n",
    "    #Predicting the test results\n",
    "    y_pred = classifier.predict(X_test)\n",
    "    \n",
    "    #confusion_matrix\n",
    "    cm = confusion_matrix(y_test, y_pred)\n",
    "    print(cm)\n",
    "    \n",
    "    # cross validation\n",
    "    f1_scores = cross_val_score(model, X, y, cv=5, scoring='f1')\n",
    "    print('\\nF1-score:', f1_scores)\n",
    "    \n",
    "    rec_scores = cross_val_score(model, X, y, cv=5, scoring='recall')\n",
    "    print('\\nRecall:', rec_scores)\n",
    "    \n",
    "    pre_scores = cross_val_score(model, X, y, cv=5, scoring='precision')\n",
    "    print('\\nPrecision:', pre_scores)\n",
    "    \n",
    "    acc_scores = cross_val_score(model, X, y, cv=5, scoring='accuracy')\n",
    "    print('\\nAccuaracy:', acc_scores)"
   ]
  },
  {
   "cell_type": "markdown",
   "metadata": {},
   "source": [
    "# DecisionTree"
   ]
  },
  {
   "cell_type": "code",
   "execution_count": 62,
   "metadata": {},
   "outputs": [],
   "source": [
    "from sklearn.tree import DecisionTreeClassifier\n",
    "classifier = DecisionTreeClassifier(criterion=\"entropy\",random_state=0)\n",
    "classifier.fit(X_train,y_train)\n",
    "# Predicting the Test set results\n",
    "y_pred = classifier.predict(X_test)"
   ]
  },
  {
   "cell_type": "code",
   "execution_count": 91,
   "metadata": {},
   "outputs": [
    {
     "data": {
      "text/plain": [
       "array([[56,  6],\n",
       "       [18,  1]])"
      ]
     },
     "execution_count": 91,
     "metadata": {},
     "output_type": "execute_result"
    }
   ],
   "source": [
    "# Making the Confusion Matrix\n",
    "from sklearn.metrics import confusion_matrix\n",
    "cm = confusion_matrix(y_test, y_pred)\n",
    "cm"
   ]
  },
  {
   "cell_type": "code",
   "execution_count": 53,
   "metadata": {},
   "outputs": [
    {
     "data": {
      "text/plain": [
       "array([[-0.04453155, -0.64232968, -0.60196544, -0.63707035,  0.8084561 ,\n",
       "        -0.77937607],\n",
       "       [-0.30372256, -0.64232968, -0.33016561,  0.1070742 , -0.03189449,\n",
       "         1.28307763],\n",
       "       [ 0.69873643, -0.64232968, -0.53133483, -0.58827399, -0.59212823,\n",
       "        -0.77937607],\n",
       "       ...,\n",
       "       [-0.09597859, -0.64232968,  2.37926684, -0.74686217, -1.43247882,\n",
       "        -0.77937607],\n",
       "       [-0.55994373, -0.64232968, -0.47324334,  0.13147238, -1.15236196,\n",
       "         1.28307763],\n",
       "       [-0.13836124, -0.64232968, -0.65134081,  0.00948147, -1.43247882,\n",
       "        -0.77937607]])"
      ]
     },
     "execution_count": 53,
     "metadata": {},
     "output_type": "execute_result"
    }
   ],
   "source": [
    "X_test[:,0:]"
   ]
  },
  {
   "cell_type": "markdown",
   "metadata": {},
   "source": [
    "# Visualising the Test set results\n"
   ]
  },
  {
   "cell_type": "code",
   "execution_count": 56,
   "metadata": {},
   "outputs": [
    {
     "ename": "ValueError",
     "evalue": "Number of features of the model must match the input. Model n_features is 6 and input n_features is 2 ",
     "output_type": "error",
     "traceback": [
      "\u001b[0;31m---------------------------------------------------------------------------\u001b[0m",
      "\u001b[0;31mValueError\u001b[0m                                Traceback (most recent call last)",
      "\u001b[0;32m<ipython-input-56-00d8d476f565>\u001b[0m in \u001b[0;36m<module>\u001b[0;34m\u001b[0m\n\u001b[1;32m      3\u001b[0m X1, X2 = np.meshgrid(np.arange(start = X_set[:, 0:].min() - 1, stop = X_set[:, 0:].max() + 1, step = 0.01),\n\u001b[1;32m      4\u001b[0m                      np.arange(start = X_set[:, 1:].min() - 1, stop = X_set[:, 1:].max() + 1, step = 0.01))\n\u001b[0;32m----> 5\u001b[0;31m plt.contourf(X1, X2, classifier.predict(np.array([X1.ravel(), X2.ravel()]).T).reshape(X1.shape),\n\u001b[0m\u001b[1;32m      6\u001b[0m              alpha = 0.75, cmap = ListedColormap(('red', 'green')))\n\u001b[1;32m      7\u001b[0m \u001b[0mplt\u001b[0m\u001b[0;34m.\u001b[0m\u001b[0mxlim\u001b[0m\u001b[0;34m(\u001b[0m\u001b[0mX1\u001b[0m\u001b[0;34m.\u001b[0m\u001b[0mmin\u001b[0m\u001b[0;34m(\u001b[0m\u001b[0;34m)\u001b[0m\u001b[0;34m,\u001b[0m \u001b[0mX1\u001b[0m\u001b[0;34m.\u001b[0m\u001b[0mmax\u001b[0m\u001b[0;34m(\u001b[0m\u001b[0;34m)\u001b[0m\u001b[0;34m)\u001b[0m\u001b[0;34m\u001b[0m\u001b[0;34m\u001b[0m\u001b[0m\n",
      "\u001b[0;32m~/anaconda3/lib/python3.7/site-packages/sklearn/tree/tree.py\u001b[0m in \u001b[0;36mpredict\u001b[0;34m(self, X, check_input)\u001b[0m\n\u001b[1;32m    428\u001b[0m         \"\"\"\n\u001b[1;32m    429\u001b[0m         \u001b[0mcheck_is_fitted\u001b[0m\u001b[0;34m(\u001b[0m\u001b[0mself\u001b[0m\u001b[0;34m,\u001b[0m \u001b[0;34m'tree_'\u001b[0m\u001b[0;34m)\u001b[0m\u001b[0;34m\u001b[0m\u001b[0;34m\u001b[0m\u001b[0m\n\u001b[0;32m--> 430\u001b[0;31m         \u001b[0mX\u001b[0m \u001b[0;34m=\u001b[0m \u001b[0mself\u001b[0m\u001b[0;34m.\u001b[0m\u001b[0m_validate_X_predict\u001b[0m\u001b[0;34m(\u001b[0m\u001b[0mX\u001b[0m\u001b[0;34m,\u001b[0m \u001b[0mcheck_input\u001b[0m\u001b[0;34m)\u001b[0m\u001b[0;34m\u001b[0m\u001b[0;34m\u001b[0m\u001b[0m\n\u001b[0m\u001b[1;32m    431\u001b[0m         \u001b[0mproba\u001b[0m \u001b[0;34m=\u001b[0m \u001b[0mself\u001b[0m\u001b[0;34m.\u001b[0m\u001b[0mtree_\u001b[0m\u001b[0;34m.\u001b[0m\u001b[0mpredict\u001b[0m\u001b[0;34m(\u001b[0m\u001b[0mX\u001b[0m\u001b[0;34m)\u001b[0m\u001b[0;34m\u001b[0m\u001b[0;34m\u001b[0m\u001b[0m\n\u001b[1;32m    432\u001b[0m         \u001b[0mn_samples\u001b[0m \u001b[0;34m=\u001b[0m \u001b[0mX\u001b[0m\u001b[0;34m.\u001b[0m\u001b[0mshape\u001b[0m\u001b[0;34m[\u001b[0m\u001b[0;36m0\u001b[0m\u001b[0;34m]\u001b[0m\u001b[0;34m\u001b[0m\u001b[0;34m\u001b[0m\u001b[0m\n",
      "\u001b[0;32m~/anaconda3/lib/python3.7/site-packages/sklearn/tree/tree.py\u001b[0m in \u001b[0;36m_validate_X_predict\u001b[0;34m(self, X, check_input)\u001b[0m\n\u001b[1;32m    400\u001b[0m                              \u001b[0;34m\"match the input. Model n_features is %s and \"\u001b[0m\u001b[0;34m\u001b[0m\u001b[0;34m\u001b[0m\u001b[0m\n\u001b[1;32m    401\u001b[0m                              \u001b[0;34m\"input n_features is %s \"\u001b[0m\u001b[0;34m\u001b[0m\u001b[0;34m\u001b[0m\u001b[0m\n\u001b[0;32m--> 402\u001b[0;31m                              % (self.n_features_, n_features))\n\u001b[0m\u001b[1;32m    403\u001b[0m \u001b[0;34m\u001b[0m\u001b[0m\n\u001b[1;32m    404\u001b[0m         \u001b[0;32mreturn\u001b[0m \u001b[0mX\u001b[0m\u001b[0;34m\u001b[0m\u001b[0;34m\u001b[0m\u001b[0m\n",
      "\u001b[0;31mValueError\u001b[0m: Number of features of the model must match the input. Model n_features is 6 and input n_features is 2 "
     ]
    }
   ],
   "source": [
    "from matplotlib.colors import ListedColormap\n",
    "X_set, y_set = X_test, y_test\n",
    "X1, X2 = np.meshgrid(np.arange(start = X_set[:, 0:].min() - 1, stop = X_set[:, 0:].max() + 1, step = 0.01),\n",
    "                     np.arange(start = X_set[:, 1:].min() - 1, stop = X_set[:, 1:].max() + 1, step = 0.01))\n",
    "plt.contourf(X1, X2, classifier.predict(np.array([X1.ravel(), X2.ravel()]).T).reshape(X1.shape),\n",
    "             alpha = 0.75, cmap = ListedColormap(('red', 'green')))\n",
    "plt.xlim(X1.min(), X1.max())\n",
    "plt.ylim(X2.min(), X2.max())\n",
    "for i, j in enumerate(np.unique(y_set)):\n",
    "    plt.scatter(X_set[y_set == j, 0], X_set[y_set == j, 1],\n",
    "                c = ListedColormap(('red', 'green'))(i), label = j)\n",
    "plt.title('Decision Tree Classifier (Test set)')\n",
    "plt.xlabel('Age')\n",
    "plt.ylabel('Estimated Salary')\n",
    "plt.legend()\n",
    "plt.show()\n"
   ]
  },
  {
   "cell_type": "code",
   "execution_count": null,
   "metadata": {},
   "outputs": [],
   "source": []
  }
 ],
 "metadata": {
  "kernelspec": {
   "display_name": "Python 3",
   "language": "python",
   "name": "python3"
  },
  "language_info": {
   "codemirror_mode": {
    "name": "ipython",
    "version": 3
   },
   "file_extension": ".py",
   "mimetype": "text/x-python",
   "name": "python",
   "nbconvert_exporter": "python",
   "pygments_lexer": "ipython3",
   "version": "3.7.3"
  }
 },
 "nbformat": 4,
 "nbformat_minor": 2
}
